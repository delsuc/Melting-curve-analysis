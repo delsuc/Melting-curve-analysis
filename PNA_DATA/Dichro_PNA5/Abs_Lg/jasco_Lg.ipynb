{
 "metadata": {
  "name": "jasco_Lg"
 }, 
 "nbformat": 2, 
 "worksheets": [
  {
   "cells": [
    {
     "cell_type": "code", 
     "collapsed": true, 
     "input": [
      "\"\"\"", 
      "Pour lire les fichiers CSV Jasco", 
      "", 
      "Created by Marc-Andr\u00e9 on 2012-09-26.", 
      "Copyright (c) 2012 IGBMC. All rights reserved.", 
      "\"\"\"", 
      "", 
      "import numpy as np", 
      "import matplotlib.pyplot as plt", 
      "import codecs", 
      "", 
      "def load(fich):", 
      "    \"lit un fichier csv\"", 
      "    data = []", 
      "    meta = {}", 
      "    xydata = False", 
      "    for lin in codecs.open(fich, \"rb\", \"latin_1\"):", 
      "        lin = lin.replace(',','.').strip()", 
      "        linspl = lin.split(';')", 
      "        if linspl == ['']:       # marque la fin des donn\u00e9es", 
      "            xydata = False", 
      "            ", 
      "        if xydata:               # on est dans les donn\u00e9es", 
      "            flin = [ float(i) for i in linspl]", 
      "            data.append(flin)", 
      "", 
      "        elif len(linspl) >1 :                   # ou pas   un champs a recuperer", 
      "            meta[linspl[0]] = \";\".join(linspl[1:])", 
      "", 
      "        if linspl == [\"XYDATA\"]:   # marque le d\u00e9but des donn\u00e9es", 
      "            xydata = True", 
      "    return np.array(data), meta", 
      "", 
      "def decoupe(d):", 
      "    \"extrait les colonnes de donn\u00e9es\"", 
      "    ldo = d[:,0]", 
      "    cd = d[:,1]", 
      "    volt = d[:,2]", 
      "    absorb = d[:,3]", 
      "    return (ldo, cd, volt, absorb)", 
      "    ", 
      "def plotabs(fich, tampon=None, lincor=False):", 
      "    \"dessine l'absorbance dans un fichier, supprime une composante lin\u00e9aire\"", 
      "    d,meta = load(fich)", 
      "    (ldo, cd, volt, absorb) = decoupe(d)", 
      "    if tampon:", 
      "        dtamp,metatamp = load(tampon)", 
      "        (a, b ,c , absorb_tamp) = decoupe(dtamp)", 
      "        absorb = absorb-absorb_tamp", 
      "        rem = \" - corrected\"", 
      "    else:", 
      "        rem = \"\"", 
      "    if lincor:      # on corrige une composante lin\u00e9aire, \u00e9valu\u00e9e sur les premiers points", 
      "        zone = int(0.1*len(ldo))", 
      "        fit = np.polyfit(ldo[0:zone], absorb[0:zone], 1)", 
      "        absorb = absorb-np.polyval(fit, ldo)", 
      "    print meta['Comment']", 
      "    plt.plot(ldo, absorb, label=fich+rem)", 
      "    plt.legend()", 
      "    plt.title(fich)", 
      "    ", 
      "def plotfit(fich, tampon=None, Param=1.0):", 
      "    \"dessine l'absorbace dans un fichier, pour fit et multiplication\"", 
      "    d,meta = load(fich)", 
      "    (ldo, cd, volt, absorb) = decoupe(d)", 
      "    if tampon:", 
      "        dtamp,metatamp = load(tampon)", 
      "        (a, b ,c , absorb_tamp) = decoupe(dtamp)", 
      "        absorb = absorb-absorb_tamp", 
      "        rem = \" - corrected\"", 
      "    else:", 
      "        rem = \"fit\"", 
      "    print meta['Comment']", 
      "    plt.plot(ldo, absorb*Param, label=fich+rem)", 
      "    plt.legend()", 
      "    plt.title(fich)"
     ], 
     "language": "python", 
     "outputs": [], 
     "prompt_number": 1
    }, 
    {
     "cell_type": "code", 
     "collapsed": false, 
     "input": [
      "#D2T 35\u00b0C avec correction du blanc", 
      "plotabs(\"D2T_T35_120919a-1.csv\")", 
      "plotabs(\"D2T_T35_120919a-2.csv\")", 
      "plotabs(\"D2T_T35_120919a-1.csv\", \"D2T_T35_120919a-2.csv\")"
     ], 
     "language": "python", 
     "outputs": [
      {
       "output_type": "stream", 
       "stream": "stdout", 
       "text": [
        "C1: D2T 4uM; C2: buffer", 
        "C1: D2T 4uM; C2: buffer"
       ]
      }, 
      {
       "output_type": "stream", 
       "stream": "stdout", 
       "text": [
        "", 
        "C1: D2T 4uM; C2: buffer"
       ]
      }
     ], 
     "prompt_number": 2
    }, 
    {
     "cell_type": "code", 
     "collapsed": false, 
     "input": [
      "# D2T \u00e0 3 temp\u00e9ratures", 
      "plotabs(\"D2T_T35_120919a-1.csv\", \"D2T_T35_120919a-2.csv\")", 
      "plotabs(\"D2T_T70_120919b-1.csv\", \"D2T_T70_120919b-2.csv\")", 
      "plotabs(\"D2T_T90_120919c-1.csv\", \"D2T_T90_120919c-2.csv\")"
     ], 
     "language": "python", 
     "outputs": [
      {
       "output_type": "stream", 
       "stream": "stdout", 
       "text": [
        "C1: D2T 4uM; C2: buffer", 
        "C1: D2T 4uM; C2: buffer Scans @75\u00b0C"
       ]
      }, 
      {
       "output_type": "stream", 
       "stream": "stdout", 
       "text": [
        "", 
        "C1: D2T 4uM; C2: buffer Scans @90\u00b0C"
       ]
      }
     ], 
     "prompt_number": 19
    }, 
    {
     "cell_type": "code", 
     "collapsed": false, 
     "input": [
      "#Tampon, D2T, T, D1, D2, PNAtern avant denaturation", 
      "plotabs(\"D2T_T35_120919e_BfDenat-1.csv\")", 
      "plotabs(\"D2T_T35_120919e_BfDenat-2.csv\")", 
      "plotabs(\"D2T_T35_120919e_BfDenat-3.csv\")", 
      "plotabs(\"D2T_T35_120919e_BfDenat-4.csv\")", 
      "plotabs(\"D2T_T35_120919e_BfDenat-5.csv\")", 
      "plotabs(\"D2T_T35_120919e_BfDenat-6.csv\")"
     ], 
     "language": "python", 
     "outputs": [
      {
       "output_type": "stream", 
       "stream": "stdout", 
       "text": [
        "C1: buffer; C2: D2-T; C3: T; C4: D1; C5: D2; C6: tern", 
        "C1: buffer; C2: D2-T; C3: T; C4: D1; C5: D2; C6: tern"
       ]
      }, 
      {
       "output_type": "stream", 
       "stream": "stdout", 
       "text": [
        "", 
        "C1: buffer; C2: D2-T; C3: T; C4: D1; C5: D2; C6: tern", 
        "C1: buffer; C2: D2-T; C3: T; C4: D1; C5: D2; C6: tern", 
        "C1: buffer; C2: D2-T; C3: T; C4: D1; C5: D2; C6: tern"
       ]
      }, 
      {
       "output_type": "stream", 
       "stream": "stdout", 
       "text": [
        "", 
        "C1: buffer; C2: D2-T; C3: T; C4: D1; C5: D2; C6: tern"
       ]
      }
     ], 
     "prompt_number": 7
    }, 
    {
     "cell_type": "code", 
     "collapsed": false, 
     "input": [
      "figure()"
     ], 
     "language": "python", 
     "outputs": [
      {
       "output_type": "pyout", 
       "prompt_number": 8, 
       "text": [
        "<matplotlib.figure.Figure at 0x10a0cb910>"
       ]
      }
     ], 
     "prompt_number": 8
    }, 
    {
     "cell_type": "code", 
     "collapsed": false, 
     "input": [
      "# #Tampon, D2T, T, D1, D2, PNAtern apres denaturation", 
      "plotabs(\"D2T_T35_120920a_ApDenat-1.csv\")", 
      "plotabs(\"D2T_T35_120920a_ApDenat-2.csv\")", 
      "plotabs(\"D2T_T35_120920a_ApDenat-3.csv\")", 
      "plotabs(\"D2T_T35_120920a_ApDenat-4.csv\")", 
      "plotabs(\"D2T_T35_120920a_ApDenat-5.csv\")", 
      "plotabs(\"D2T_T35_120920a_ApDenat-6.csv\")"
     ], 
     "language": "python", 
     "outputs": [
      {
       "output_type": "stream", 
       "stream": "stdout", 
       "text": [
        "C1: buffer; C2: D2-T; C3: T; C4: D1; C5: D2; C6: tern", 
        "C1: buffer; C2: D2-T; C3: T; C4: D1; C5: D2; C6: tern"
       ]
      }, 
      {
       "output_type": "stream", 
       "stream": "stdout", 
       "text": [
        "", 
        "C1: buffer; C2: D2-T; C3: T; C4: D1; C5: D2; C6: tern", 
        "C1: buffer; C2: D2-T; C3: T; C4: D1; C5: D2; C6: tern", 
        "C1: buffer; C2: D2-T; C3: T; C4: D1; C5: D2; C6: tern"
       ]
      }, 
      {
       "output_type": "stream", 
       "stream": "stdout", 
       "text": [
        "", 
        "C1: buffer; C2: D2-T; C3: T; C4: D1; C5: D2; C6: tern"
       ]
      }
     ], 
     "prompt_number": 15
    }, 
    {
     "cell_type": "code", 
     "collapsed": false, 
     "input": [
      "figure ()"
     ], 
     "language": "python", 
     "outputs": [
      {
       "output_type": "pyout", 
       "prompt_number": 14, 
       "text": [
        "<matplotlib.figure.Figure at 0x35eff10>"
       ]
      }
     ], 
     "prompt_number": 14
    }, 
    {
     "cell_type": "code", 
     "collapsed": false, 
     "input": [
      "#D2T avant apr\u00e8s denaturation", 
      "plotabs(\"D2T_T35_120919e_BfDenat-2.csv\")", 
      "plotabs(\"D2T_T35_120920a_ApDenat-2.csv\")"
     ], 
     "language": "python", 
     "outputs": [
      {
       "output_type": "stream", 
       "stream": "stdout", 
       "text": [
        "C1: buffer; C2: D2-T; C3: T; C4: D1; C5: D2; C6: tern", 
        "C1: buffer; C2: D2-T; C3: T; C4: D1; C5: D2; C6: tern"
       ]
      }, 
      {
       "output_type": "stream", 
       "stream": "stdout", 
       "text": []
      }
     ], 
     "prompt_number": 18
    }, 
    {
     "cell_type": "code", 
     "collapsed": false, 
     "input": [
      "#T avant apr\u00e8s denaturation", 
      "plotabs(\"D2T_T35_120919e_BfDenat-3.csv\")", 
      "plotabs(\"D2T_T35_120920a_ApDenat-3.csv\")"
     ], 
     "language": "python", 
     "outputs": [
      {
       "output_type": "stream", 
       "stream": "stdout", 
       "text": [
        "C1: buffer; C2: D2-T; C3: T; C4: D1; C5: D2; C6: tern", 
        "C1: buffer; C2: D2-T; C3: T; C4: D1; C5: D2; C6: tern"
       ]
      }, 
      {
       "output_type": "stream", 
       "stream": "stdout", 
       "text": []
      }
     ], 
     "prompt_number": 17
    }, 
    {
     "cell_type": "code", 
     "collapsed": false, 
     "input": [
      "#PNA-tern avant apr\u00e8s denaturation", 
      "plotabs(\"D2T_T35_120919e_BfDenat-6.csv\")", 
      "plotabs(\"D2T_T35_120920a_ApDenat-6.csv\")"
     ], 
     "language": "python", 
     "outputs": [
      {
       "output_type": "stream", 
       "stream": "stdout", 
       "text": [
        "C1: buffer; C2: D2-T; C3: T; C4: D1; C5: D2; C6: tern", 
        "C1: buffer; C2: D2-T; C3: T; C4: D1; C5: D2; C6: tern"
       ]
      }, 
      {
       "output_type": "stream", 
       "stream": "stdout", 
       "text": []
      }
     ], 
     "prompt_number": 16
    }, 
    {
     "cell_type": "code", 
     "collapsed": false, 
     "input": [
      "plotabs(\"D2T_T35_120920a_ApDenat-2.csv\")", 
      "plotfit(\"D2T_T35_120919e_BfDenat-2.csv\", Param=1.15)"
     ], 
     "language": "python", 
     "outputs": [
      {
       "output_type": "stream", 
       "stream": "stdout", 
       "text": [
        "C1: buffer; C2: D2-T; C3: T; C4: D1; C5: D2; C6: tern", 
        "C1: buffer; C2: D2-T; C3: T; C4: D1; C5: D2; C6: tern"
       ]
      }
     ], 
     "prompt_number": 13
    }, 
    {
     "cell_type": "code", 
     "collapsed": false, 
     "input": [
      "# #Tampon, D2T, T, D1, D2, PNAtern avant cooling", 
      "plotabs(\"PNA_T95_120920b_BfCool-1.csv\")", 
      "plotabs(\"PNA_T95_120920b_BfCool-2.csv\")", 
      "plotabs(\"PNA_T95_120920b_BfCool-3.csv\")", 
      "plotabs(\"PNA_T95_120920b_BfCool-4.csv\")", 
      "plotabs(\"PNA_T95_120920b_BfCool-5.csv\")", 
      "plotabs(\"PNA_T95_120920b_BfCool-6.csv\")"
     ], 
     "language": "python", 
     "outputs": [
      {
       "output_type": "stream", 
       "stream": "stdout", 
       "text": [
        "C1: buffer; C2: D2-T; C3: T; C4: D1; C5: D2; C6: tern", 
        "C1: buffer; C2: D2-T; C3: T; C4: D1; C5: D2; C6: tern"
       ]
      }, 
      {
       "output_type": "stream", 
       "stream": "stdout", 
       "text": [
        "", 
        "C1: buffer; C2: D2-T; C3: T; C4: D1; C5: D2; C6: tern", 
        "C1: buffer; C2: D2-T; C3: T; C4: D1; C5: D2; C6: tern", 
        "C1: buffer; C2: D2-T; C3: T; C4: D1; C5: D2; C6: tern", 
        "C1: buffer; C2: D2-T; C3: T; C4: D1; C5: D2; C6: tern"
       ]
      }, 
      {
       "output_type": "stream", 
       "stream": "stdout", 
       "text": [
        ""
       ]
      }
     ], 
     "prompt_number": 2
    }, 
    {
     "cell_type": "code", 
     "collapsed": false, 
     "input": [
      "# #Tampon, D1, D2, avant cooling", 
      "plotabs(\"PNA_T95_120920b_BfCool-1.csv\")", 
      "plotabs(\"PNA_T95_120920b_BfCool-4.csv\")", 
      "plotabs(\"PNA_T95_120920b_BfCool-5.csv\")"
     ], 
     "language": "python", 
     "outputs": [
      {
       "output_type": "stream", 
       "stream": "stdout", 
       "text": [
        "C1: buffer; C2: D2-T; C3: T; C4: D1; C5: D2; C6: tern", 
        "C1: buffer; C2: D2-T; C3: T; C4: D1; C5: D2; C6: tern"
       ]
      }, 
      {
       "output_type": "stream", 
       "stream": "stdout", 
       "text": [
        "", 
        "C1: buffer; C2: D2-T; C3: T; C4: D1; C5: D2; C6: tern"
       ]
      }, 
      {
       "output_type": "stream", 
       "stream": "stderr", 
       "text": [
        "/Library/Frameworks/Python.framework/Versions/7.3/lib/python2.7/site-packages/matplotlib/backends/backend_wx.py:1846: UserWarning: extension pdf did not match the selected image type png; going with pdf", 
        "  warnings.warn('extension %s did not match the selected image type %s; going with %s'%(ext, format, ext), stacklevel=0)"
       ]
      }
     ], 
     "prompt_number": 5
    }, 
    {
     "cell_type": "code", 
     "collapsed": false, 
     "input": [
      "# #Tampon, D2T, T, PNAtern avant cooling, Saturation signal !!", 
      "plotabs(\"PNA_T95_120920b_BfCool-1.csv\")", 
      "plotabs(\"PNA_T95_120920b_BfCool-2.csv\")", 
      "plotabs(\"PNA_T95_120920b_BfCool-3.csv\")", 
      "plotabs(\"PNA_T95_120920b_BfCool-6.csv\")"
     ], 
     "language": "python", 
     "outputs": [
      {
       "output_type": "stream", 
       "stream": "stdout", 
       "text": [
        "C1: buffer; C2: D2-T; C3: T; C4: D1; C5: D2; C6: tern", 
        "C1: buffer; C2: D2-T; C3: T; C4: D1; C5: D2; C6: tern"
       ]
      }, 
      {
       "output_type": "stream", 
       "stream": "stdout", 
       "text": [
        "", 
        "C1: buffer; C2: D2-T; C3: T; C4: D1; C5: D2; C6: tern", 
        "C1: buffer; C2: D2-T; C3: T; C4: D1; C5: D2; C6: tern"
       ]
      }
     ], 
     "prompt_number": 4
    }, 
    {
     "cell_type": "code", 
     "collapsed": true, 
     "input": [], 
     "language": "python", 
     "outputs": []
    }
   ]
  }
 ]
}