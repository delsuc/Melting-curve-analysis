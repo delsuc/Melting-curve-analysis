{
 "metadata": {
  "name": "jasco_TeDen"
 }, 
 "nbformat": 2, 
 "worksheets": [
  {
   "cells": [
    {
     "cell_type": "code", 
     "collapsed": true, 
     "input": [
      "\"\"\"", 
      "Pour lire les fichiers CSV Jasco", 
      "", 
      "Created by Marc-Andr\u00e9 on 2012-09-26.", 
      "Copyright (c) 2012 IGBMC. All rights reserved.", 
      "\"\"\"", 
      "", 
      "import numpy as np", 
      "import matplotlib.pyplot as plt", 
      "import codecs", 
      "", 
      "def load(fich):", 
      "    \"lit un fichier csv\"", 
      "    data = []", 
      "    meta = {}", 
      "    xydata = False", 
      "    for lin in codecs.open(fich, \"rb\", \"latin_1\"):", 
      "        lin = lin.replace(',','.').strip()", 
      "        linspl = lin.split(';')", 
      "        if linspl == ['']:       # marque la fin des donn\u00e9es", 
      "            xydata = False", 
      "            ", 
      "        if xydata:               # on est dans les donn\u00e9es", 
      "            flin = [ float(i) for i in linspl]", 
      "            data.append(flin)", 
      "", 
      "        elif len(linspl) >1 :                   # ou pas   un champs a recuperer", 
      "            meta[linspl[0]] = \";\".join(linspl[1:])", 
      "", 
      "        if linspl == [\"XYDATA\"]:   # marque le d\u00e9but des donn\u00e9es", 
      "            xydata = True", 
      "    return np.array(data), meta", 
      "", 
      "def decoupe(d):", 
      "    \"extrait les colonnes de donn\u00e9es\"", 
      "    ldo = d[:,0]", 
      "    cd = d[:,1]", 
      "    volt = d[:,2]", 
      "    absorb = d[:,3]", 
      "    return (ldo, cd, volt, absorb)", 
      "    ", 
      "def plotabs(fich, tampon=None, lincor=False):", 
      "    \"dessine l'absorbance dans un fichier, supprime une composante lin\u00e9aire\"", 
      "    d,meta = load(fich)", 
      "    (ldo, cd, volt, absorb) = decoupe(d)", 
      "    if tampon:", 
      "        dtamp,metatamp = load(tampon)", 
      "        (a, b ,c , absorb_tamp) = decoupe(dtamp)", 
      "        absorb = absorb-absorb_tamp", 
      "        rem = \" - corrected\"", 
      "    else:", 
      "        rem = \"\"", 
      "    if lincor:      # on corrige une composante lin\u00e9aire, \u00e9valu\u00e9e sur les premiers points", 
      "        zone = int(0.1*len(ldo))", 
      "        fit = np.polyfit(ldo[0:zone], absorb[0:zone], 1)", 
      "        absorb = absorb-np.polyval(fit, ldo)", 
      "    print meta['Comment']", 
      "    plt.plot(ldo, absorb, label=fich+rem)", 
      "    plt.legend()", 
      "    plt.title(fich)"
     ], 
     "language": "python", 
     "outputs": [], 
     "prompt_number": 8
    }, 
    {
     "cell_type": "code", 
     "collapsed": false, 
     "input": [
      "#tampon abs en fonction de la temperature", 
      "plotabs(\"PNA_120919_ThermDenat-1-200nm-cell 1.csv\")", 
      "plotabs(\"PNA_120919_ThermDenat-1-215nm-cell 1.csv\")", 
      "plotabs(\"PNA_120919_ThermDenat-1-207nm-cell 1.csv\")", 
      "plotabs(\"PNA_120919_ThermDenat-1-250nm-cell 1.csv\")"
     ], 
     "language": "python", 
     "outputs": [
      {
       "output_type": "stream", 
       "stream": "stdout", 
       "text": [
        "C1: buffer; C2: D2-T; C3: T; C4: D1; C5: D2; C6: tern", 
        "C1: buffer; C2: D2-T; C3: T; C4: D1; C5: D2; C6: tern"
       ]
      }, 
      {
       "output_type": "stream", 
       "stream": "stdout", 
       "text": [
        "", 
        "C1: buffer; C2: D2-T; C3: T; C4: D1; C5: D2; C6: tern", 
        "C1: buffer; C2: D2-T; C3: T; C4: D1; C5: D2; C6: tern"
       ]
      }
     ], 
     "prompt_number": 22
    }, 
    {
     "cell_type": "code", 
     "collapsed": false, 
     "input": [
      "#D2T abs en fonction de la temperature", 
      "plotabs(\"PNA_120919_ThermDenat-1-200nm-cell 2.csv\")", 
      "plotabs(\"PNA_120919_ThermDenat-1-215nm-cell 2.csv\")", 
      "plotabs(\"PNA_120919_ThermDenat-1-207nm-cell 2.csv\")", 
      "plotabs(\"PNA_120919_ThermDenat-1-250nm-cell 2.csv\")"
     ], 
     "language": "python", 
     "outputs": [
      {
       "output_type": "stream", 
       "stream": "stdout", 
       "text": [
        "C1: buffer; C2: D2-T; C3: T; C4: D1; C5: D2; C6: tern", 
        "C1: buffer; C2: D2-T; C3: T; C4: D1; C5: D2; C6: tern", 
        "C1: buffer; C2: D2-T; C3: T; C4: D1; C5: D2; C6: tern", 
        "C1: buffer; C2: D2-T; C3: T; C4: D1; C5: D2; C6: tern"
       ]
      }, 
      {
       "output_type": "stream", 
       "stream": "stdout", 
       "text": [
        ""
       ]
      }
     ], 
     "prompt_number": 23
    }, 
    {
     "cell_type": "code", 
     "collapsed": false, 
     "input": [
      "#T abs en fonction de la temperature", 
      "plotabs(\"PNA_120919_ThermDenat-1-200nm-cell 3.csv\")", 
      "plotabs(\"PNA_120919_ThermDenat-1-215nm-cell 3.csv\")", 
      "plotabs(\"PNA_120919_ThermDenat-1-207nm-cell 3.csv\")", 
      "plotabs(\"PNA_120919_ThermDenat-1-250nm-cell 3.csv\")"
     ], 
     "language": "python", 
     "outputs": [
      {
       "output_type": "stream", 
       "stream": "stdout", 
       "text": [
        "C1: buffer; C2: D2-T; C3: T; C4: D1; C5: D2; C6: tern", 
        "C1: buffer; C2: D2-T; C3: T; C4: D1; C5: D2; C6: tern", 
        "C1: buffer; C2: D2-T; C3: T; C4: D1; C5: D2; C6: tern", 
        "C1: buffer; C2: D2-T; C3: T; C4: D1; C5: D2; C6: tern"
       ]
      }, 
      {
       "output_type": "stream", 
       "stream": "stdout", 
       "text": [
        ""
       ]
      }
     ], 
     "prompt_number": 24
    }, 
    {
     "cell_type": "code", 
     "collapsed": false, 
     "input": [
      "#D1 abs en fonction de la temperature", 
      "plotabs(\"PNA_120919_ThermDenat-1-200nm-cell 4.csv\")", 
      "plotabs(\"PNA_120919_ThermDenat-1-215nm-cell 4.csv\")", 
      "plotabs(\"PNA_120919_ThermDenat-1-207nm-cell 4.csv\")", 
      "plotabs(\"PNA_120919_ThermDenat-1-250nm-cell 4.csv\")"
     ], 
     "language": "python", 
     "outputs": [
      {
       "output_type": "stream", 
       "stream": "stdout", 
       "text": [
        "C1: buffer; C2: D2-T; C3: T; C4: D1; C5: D2; C6: tern", 
        "C1: buffer; C2: D2-T; C3: T; C4: D1; C5: D2; C6: tern"
       ]
      }, 
      {
       "output_type": "stream", 
       "stream": "stdout", 
       "text": [
        "", 
        "C1: buffer; C2: D2-T; C3: T; C4: D1; C5: D2; C6: tern", 
        "C1: buffer; C2: D2-T; C3: T; C4: D1; C5: D2; C6: tern"
       ]
      }
     ], 
     "prompt_number": 26
    }, 
    {
     "cell_type": "code", 
     "collapsed": false, 
     "input": [
      "#D2 abs en fonction de la temperature", 
      "plotabs(\"PNA_120919_ThermDenat-1-200nm-cell 5.csv\")", 
      "plotabs(\"PNA_120919_ThermDenat-1-215nm-cell 5.csv\")", 
      "plotabs(\"PNA_120919_ThermDenat-1-207nm-cell 5.csv\")", 
      "plotabs(\"PNA_120919_ThermDenat-1-250nm-cell 5.csv\")"
     ], 
     "language": "python", 
     "outputs": [
      {
       "output_type": "stream", 
       "stream": "stdout", 
       "text": [
        "C1: buffer; C2: D2-T; C3: T; C4: D1; C5: D2; C6: tern", 
        "C1: buffer; C2: D2-T; C3: T; C4: D1; C5: D2; C6: tern"
       ]
      }, 
      {
       "output_type": "stream", 
       "stream": "stdout", 
       "text": [
        "", 
        "C1: buffer; C2: D2-T; C3: T; C4: D1; C5: D2; C6: tern", 
        "C1: buffer; C2: D2-T; C3: T; C4: D1; C5: D2; C6: tern"
       ]
      }
     ], 
     "prompt_number": 28
    }, 
    {
     "cell_type": "code", 
     "collapsed": false, 
     "input": [
      "figure()"
     ], 
     "language": "python", 
     "outputs": [
      {
       "output_type": "pyout", 
       "prompt_number": 27, 
       "text": [
        "<matplotlib.figure.Figure at 0x19432110>"
       ]
      }
     ], 
     "prompt_number": 27
    }, 
    {
     "cell_type": "code", 
     "collapsed": false, 
     "input": [
      "#tern abs en fonction de la temperature", 
      "plotabs(\"PNA_120919_ThermDenat-1-200nm-cell 6.csv\")", 
      "plotabs(\"PNA_120919_ThermDenat-1-215nm-cell 6.csv\")", 
      "plotabs(\"PNA_120919_ThermDenat-1-207nm-cell 6.csv\")", 
      "plotabs(\"PNA_120919_ThermDenat-1-250nm-cell 6.csv\")"
     ], 
     "language": "python", 
     "outputs": [
      {
       "output_type": "stream", 
       "stream": "stdout", 
       "text": [
        "C1: buffer; C2: D2-T; C3: T; C4: D1; C5: D2; C6: tern", 
        "C1: buffer; C2: D2-T; C3: T; C4: D1; C5: D2; C6: tern"
       ]
      }, 
      {
       "output_type": "stream", 
       "stream": "stdout", 
       "text": [
        "", 
        "C1: buffer; C2: D2-T; C3: T; C4: D1; C5: D2; C6: tern", 
        "C1: buffer; C2: D2-T; C3: T; C4: D1; C5: D2; C6: tern"
       ]
      }
     ], 
     "prompt_number": 14
    }, 
    {
     "cell_type": "code", 
     "collapsed": false, 
     "input": [
      "#tampon, D2T, T, D1, D2, tern abs en fonction de la temperature 207nm", 
      "plotabs(\"PNA_120919_ThermDenat-1-207nm-cell 1.csv\")", 
      "plotabs(\"PNA_120919_ThermDenat-1-207nm-cell 2.csv\")", 
      "plotabs(\"PNA_120919_ThermDenat-1-207nm-cell 3.csv\")", 
      "plotabs(\"PNA_120919_ThermDenat-1-207nm-cell 4.csv\")", 
      "plotabs(\"PNA_120919_ThermDenat-1-207nm-cell 5.csv\")", 
      "plotabs(\"PNA_120919_ThermDenat-1-207nm-cell 6.csv\")"
     ], 
     "language": "python", 
     "outputs": [
      {
       "output_type": "stream", 
       "stream": "stdout", 
       "text": [
        "C1: buffer; C2: D2-T; C3: T; C4: D1; C5: D2; C6: tern", 
        "C1: buffer; C2: D2-T; C3: T; C4: D1; C5: D2; C6: tern"
       ]
      }, 
      {
       "output_type": "stream", 
       "stream": "stdout", 
       "text": [
        "", 
        "C1: buffer; C2: D2-T; C3: T; C4: D1; C5: D2; C6: tern"
       ]
      }, 
      {
       "output_type": "stream", 
       "stream": "stdout", 
       "text": [
        "", 
        "C1: buffer; C2: D2-T; C3: T; C4: D1; C5: D2; C6: tern", 
        "C1: buffer; C2: D2-T; C3: T; C4: D1; C5: D2; C6: tern", 
        "C1: buffer; C2: D2-T; C3: T; C4: D1; C5: D2; C6: tern"
       ]
      }, 
      {
       "output_type": "stream", 
       "stream": "stdout", 
       "text": []
      }
     ], 
     "prompt_number": 9
    }, 
    {
     "cell_type": "code", 
     "collapsed": false, 
     "input": [
      "#tampon, D2T, T, D1, D2, tern abs en fonction de la temperature, corrected", 
      "plotabs(\"PNA_120919_ThermDenat-1-207nm-cell 1.csv\",\"PNA_120919_ThermDenat-1-207nm-cell 1.csv\")", 
      "plotabs(\"PNA_120919_ThermDenat-1-207nm-cell 2.csv\",\"PNA_120919_ThermDenat-1-207nm-cell 1.csv\")", 
      "plotabs(\"PNA_120919_ThermDenat-1-207nm-cell 3.csv\",\"PNA_120919_ThermDenat-1-207nm-cell 1.csv\")", 
      "plotabs(\"PNA_120919_ThermDenat-1-207nm-cell 4.csv\",\"PNA_120919_ThermDenat-1-207nm-cell 1.csv\")", 
      "plotabs(\"PNA_120919_ThermDenat-1-207nm-cell 5.csv\",\"PNA_120919_ThermDenat-1-207nm-cell 1.csv\")", 
      "plotabs(\"PNA_120919_ThermDenat-1-207nm-cell 6.csv\",\"PNA_120919_ThermDenat-1-207nm-cell 1.csv\")"
     ], 
     "language": "python", 
     "outputs": [
      {
       "output_type": "stream", 
       "stream": "stdout", 
       "text": [
        "C1: buffer; C2: D2-T; C3: T; C4: D1; C5: D2; C6: tern", 
        "C1: buffer; C2: D2-T; C3: T; C4: D1; C5: D2; C6: tern"
       ]
      }, 
      {
       "output_type": "stream", 
       "stream": "stdout", 
       "text": [
        "", 
        "C1: buffer; C2: D2-T; C3: T; C4: D1; C5: D2; C6: tern", 
        "C1: buffer; C2: D2-T; C3: T; C4: D1; C5: D2; C6: tern", 
        "C1: buffer; C2: D2-T; C3: T; C4: D1; C5: D2; C6: tern"
       ]
      }, 
      {
       "output_type": "stream", 
       "stream": "stdout", 
       "text": [
        "", 
        "C1: buffer; C2: D2-T; C3: T; C4: D1; C5: D2; C6: tern"
       ]
      }
     ], 
     "prompt_number": 13
    }, 
    {
     "cell_type": "code", 
     "collapsed": false, 
     "input": [
      "#D2T, T, tern abs en fonction de la temperature 207nm, corrected", 
      "plotabs(\"PNA_120919_ThermDenat-1-207nm-cell 2.csv\",\"PNA_120919_ThermDenat-1-207nm-cell 1.csv\")", 
      "plotabs(\"PNA_120919_ThermDenat-1-207nm-cell 3.csv\",\"PNA_120919_ThermDenat-1-207nm-cell 1.csv\")", 
      "plotabs(\"PNA_120919_ThermDenat-1-207nm-cell 6.csv\",\"PNA_120919_ThermDenat-1-207nm-cell 1.csv\")"
     ], 
     "language": "python", 
     "outputs": [
      {
       "output_type": "stream", 
       "stream": "stdout", 
       "text": [
        "C1: buffer; C2: D2-T; C3: T; C4: D1; C5: D2; C6: tern", 
        "C1: buffer; C2: D2-T; C3: T; C4: D1; C5: D2; C6: tern"
       ]
      }, 
      {
       "output_type": "stream", 
       "stream": "stdout", 
       "text": [
        "", 
        "C1: buffer; C2: D2-T; C3: T; C4: D1; C5: D2; C6: tern"
       ]
      }
     ], 
     "prompt_number": 12
    }, 
    {
     "cell_type": "code", 
     "collapsed": false, 
     "input": [
      "#D2T, T, tern abs en fonction de la temperature 215nm, corrected", 
      "plotabs(\"PNA_120919_ThermDenat-1-215nm-cell 2.csv\",\"PNA_120919_ThermDenat-1-215nm-cell 1.csv\")", 
      "plotabs(\"PNA_120919_ThermDenat-1-215nm-cell 3.csv\",\"PNA_120919_ThermDenat-1-215nm-cell 1.csv\")", 
      "plotabs(\"PNA_120919_ThermDenat-1-215nm-cell 6.csv\",\"PNA_120919_ThermDenat-1-215nm-cell 1.csv\")"
     ], 
     "language": "python", 
     "outputs": [
      {
       "output_type": "stream", 
       "stream": "stdout", 
       "text": [
        "C1: buffer; C2: D2-T; C3: T; C4: D1; C5: D2; C6: tern", 
        "C1: buffer; C2: D2-T; C3: T; C4: D1; C5: D2; C6: tern"
       ]
      }, 
      {
       "output_type": "stream", 
       "stream": "stdout", 
       "text": [
        "", 
        "C1: buffer; C2: D2-T; C3: T; C4: D1; C5: D2; C6: tern"
       ]
      }
     ], 
     "prompt_number": 11
    }, 
    {
     "cell_type": "code", 
     "collapsed": false, 
     "input": [
      "#D2T, T, tern abs en fonction de la temperature 207nm, corrected", 
      "plotabs(\"PNA_120919_ThermDenat-1-207nm-cell 2.csv\",\"PNA_120919_ThermDenat-1-207nm-cell 1.csv\")", 
      "plotabs(\"PNA_120919_ThermDenat-1-207nm-cell 3.csv\",\"PNA_120919_ThermDenat-1-207nm-cell 1.csv\")", 
      "plotabs(\"PNA_120919_ThermDenat-1-207nm-cell 6.csv\",\"PNA_120919_ThermDenat-1-207nm-cell 1.csv\")", 
      "#D2T, T, tern abs en fonction de la temperature 215nm, corrected", 
      "plotabs(\"PNA_120919_ThermDenat-1-215nm-cell 2.csv\",\"PNA_120919_ThermDenat-1-215nm-cell 1.csv\")", 
      "plotabs(\"PNA_120919_ThermDenat-1-215nm-cell 3.csv\",\"PNA_120919_ThermDenat-1-215nm-cell 1.csv\")", 
      "plotabs(\"PNA_120919_ThermDenat-1-215nm-cell 6.csv\",\"PNA_120919_ThermDenat-1-215nm-cell 1.csv\")"
     ], 
     "language": "python", 
     "outputs": [
      {
       "output_type": "stream", 
       "stream": "stdout", 
       "text": [
        "C1: buffer; C2: D2-T; C3: T; C4: D1; C5: D2; C6: tern", 
        "C1: buffer; C2: D2-T; C3: T; C4: D1; C5: D2; C6: tern"
       ]
      }, 
      {
       "output_type": "stream", 
       "stream": "stdout", 
       "text": [
        "", 
        "C1: buffer; C2: D2-T; C3: T; C4: D1; C5: D2; C6: tern", 
        "C1: buffer; C2: D2-T; C3: T; C4: D1; C5: D2; C6: tern", 
        "C1: buffer; C2: D2-T; C3: T; C4: D1; C5: D2; C6: tern"
       ]
      }, 
      {
       "output_type": "stream", 
       "stream": "stdout", 
       "text": [
        "", 
        "C1: buffer; C2: D2-T; C3: T; C4: D1; C5: D2; C6: tern"
       ]
      }
     ], 
     "prompt_number": 7
    }, 
    {
     "cell_type": "code", 
     "collapsed": false, 
     "input": [
      "#D2T, T, tern abs en fonction de la temperature 250nm, corrected", 
      "plotabs(\"PNA_120919_ThermDenat-1-250nm-cell 2.csv\",\"PNA_120919_ThermDenat-1-250nm-cell 1.csv\")", 
      "plotabs(\"PNA_120919_ThermDenat-1-250nm-cell 3.csv\",\"PNA_120919_ThermDenat-1-250nm-cell 1.csv\")", 
      "plotabs(\"PNA_120919_ThermDenat-1-250nm-cell 6.csv\",\"PNA_120919_ThermDenat-1-250nm-cell 1.csv\")", 
      "#D2T, T, tern abs en fonction de la temperature 200nm, corrected", 
      "plotabs(\"PNA_120919_ThermDenat-1-200nm-cell 2.csv\",\"PNA_120919_ThermDenat-1-200nm-cell 1.csv\")", 
      "plotabs(\"PNA_120919_ThermDenat-1-200nm-cell 3.csv\",\"PNA_120919_ThermDenat-1-200nm-cell 1.csv\")", 
      "plotabs(\"PNA_120919_ThermDenat-1-200nm-cell 6.csv\",\"PNA_120919_ThermDenat-1-200nm-cell 1.csv\")"
     ], 
     "language": "python", 
     "outputs": [
      {
       "output_type": "stream", 
       "stream": "stdout", 
       "text": [
        "C1: buffer; C2: D2-T; C3: T; C4: D1; C5: D2; C6: tern", 
        "C1: buffer; C2: D2-T; C3: T; C4: D1; C5: D2; C6: tern"
       ]
      }, 
      {
       "output_type": "stream", 
       "stream": "stdout", 
       "text": [
        "", 
        "C1: buffer; C2: D2-T; C3: T; C4: D1; C5: D2; C6: tern", 
        "C1: buffer; C2: D2-T; C3: T; C4: D1; C5: D2; C6: tern"
       ]
      }, 
      {
       "output_type": "stream", 
       "stream": "stdout", 
       "text": [
        "", 
        "C1: buffer; C2: D2-T; C3: T; C4: D1; C5: D2; C6: tern", 
        "C1: buffer; C2: D2-T; C3: T; C4: D1; C5: D2; C6: tern"
       ]
      }, 
      {
       "output_type": "stream", 
       "stream": "stdout", 
       "text": []
      }
     ], 
     "prompt_number": 8
    }, 
    {
     "cell_type": "code", 
     "collapsed": false, 
     "input": [
      "#D2T abs en fonction de la temperature correted", 
      "plotabs(\"PNA_120919_ThermDenat-1-200nm-cell 2.csv\",\"PNA_120919_ThermDenat-1-200nm-cell 1.csv\")", 
      "plotabs(\"PNA_120919_ThermDenat-1-215nm-cell 2.csv\",\"PNA_120919_ThermDenat-1-215nm-cell 1.csv\")", 
      "plotabs(\"PNA_120919_ThermDenat-1-207nm-cell 2.csv\",\"PNA_120919_ThermDenat-1-207nm-cell 1.csv\")", 
      "plotabs(\"PNA_120919_ThermDenat-1-250nm-cell 2.csv\",\"PNA_120919_ThermDenat-1-250nm-cell 1.csv\")"
     ], 
     "language": "python", 
     "outputs": [
      {
       "output_type": "stream", 
       "stream": "stdout", 
       "text": [
        "C1: buffer; C2: D2-T; C3: T; C4: D1; C5: D2; C6: tern", 
        "C1: buffer; C2: D2-T; C3: T; C4: D1; C5: D2; C6: tern"
       ]
      }, 
      {
       "output_type": "stream", 
       "stream": "stdout", 
       "text": [
        "", 
        "C1: buffer; C2: D2-T; C3: T; C4: D1; C5: D2; C6: tern", 
        "C1: buffer; C2: D2-T; C3: T; C4: D1; C5: D2; C6: tern"
       ]
      }
     ], 
     "prompt_number": 6
    }, 
    {
     "cell_type": "code", 
     "collapsed": false, 
     "input": [
      "#T abs en fonction de la temperature corrected", 
      "plotabs(\"PNA_120919_ThermDenat-1-200nm-cell 3.csv\",\"PNA_120919_ThermDenat-1-200nm-cell 1.csv\")", 
      "plotabs(\"PNA_120919_ThermDenat-1-215nm-cell 3.csv\",\"PNA_120919_ThermDenat-1-215nm-cell 1.csv\")", 
      "plotabs(\"PNA_120919_ThermDenat-1-207nm-cell 3.csv\",\"PNA_120919_ThermDenat-1-207nm-cell 1.csv\")", 
      "plotabs(\"PNA_120919_ThermDenat-1-250nm-cell 3.csv\",\"PNA_120919_ThermDenat-1-250nm-cell 1.csv\")"
     ], 
     "language": "python", 
     "outputs": [
      {
       "output_type": "stream", 
       "stream": "stdout", 
       "text": [
        "C1: buffer; C2: D2-T; C3: T; C4: D1; C5: D2; C6: tern", 
        "C1: buffer; C2: D2-T; C3: T; C4: D1; C5: D2; C6: tern"
       ]
      }, 
      {
       "output_type": "stream", 
       "stream": "stdout", 
       "text": [
        "", 
        "C1: buffer; C2: D2-T; C3: T; C4: D1; C5: D2; C6: tern", 
        "C1: buffer; C2: D2-T; C3: T; C4: D1; C5: D2; C6: tern"
       ]
      }
     ], 
     "prompt_number": 7
    }, 
    {
     "cell_type": "code", 
     "collapsed": false, 
     "input": [
      "#tern abs en fonction de la temperature", 
      "plotabs(\"PNA_120919_ThermDenat-1-200nm-cell 6.csv\",\"PNA_120919_ThermDenat-1-200nm-cell 1.csv\")", 
      "plotabs(\"PNA_120919_ThermDenat-1-215nm-cell 6.csv\",\"PNA_120919_ThermDenat-1-215nm-cell 1.csv\")", 
      "plotabs(\"PNA_120919_ThermDenat-1-207nm-cell 6.csv\",\"PNA_120919_ThermDenat-1-207nm-cell 1.csv\")", 
      "plotabs(\"PNA_120919_ThermDenat-1-250nm-cell 6.csv\",\"PNA_120919_ThermDenat-1-250nm-cell 1.csv\")"
     ], 
     "language": "python", 
     "outputs": [
      {
       "output_type": "stream", 
       "stream": "stdout", 
       "text": [
        "C1: buffer; C2: D2-T; C3: T; C4: D1; C5: D2; C6: tern", 
        "C1: buffer; C2: D2-T; C3: T; C4: D1; C5: D2; C6: tern"
       ]
      }, 
      {
       "output_type": "stream", 
       "stream": "stdout", 
       "text": [
        "", 
        "C1: buffer; C2: D2-T; C3: T; C4: D1; C5: D2; C6: tern", 
        "C1: buffer; C2: D2-T; C3: T; C4: D1; C5: D2; C6: tern"
       ]
      }, 
      {
       "output_type": "stream", 
       "stream": "stdout", 
       "text": []
      }
     ], 
     "prompt_number": 13
    }, 
    {
     "cell_type": "code", 
     "collapsed": false, 
     "input": [
      "figure()"
     ], 
     "language": "python", 
     "outputs": [
      {
       "output_type": "pyout", 
       "prompt_number": 16, 
       "text": [
        "<matplotlib.figure.Figure at 0x352dbd0>"
       ]
      }
     ], 
     "prompt_number": 16
    }, 
    {
     "cell_type": "code", 
     "collapsed": true, 
     "input": [], 
     "language": "python", 
     "outputs": []
    }
   ]
  }
 ]
}