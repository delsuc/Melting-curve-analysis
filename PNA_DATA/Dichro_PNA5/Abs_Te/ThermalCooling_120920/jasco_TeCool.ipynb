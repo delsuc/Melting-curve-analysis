{
 "metadata": {
  "name": "jasco_TeCool"
 }, 
 "nbformat": 2, 
 "worksheets": [
  {
   "cells": [
    {
     "cell_type": "code", 
     "collapsed": true, 
     "input": [
      "\"\"\"", 
      "Pour lire les fichiers CSV Jasco", 
      "", 
      "Created by Marc-Andr\u00e9 on 2012-09-26.", 
      "Copyright (c) 2012 IGBMC. All rights reserved.", 
      "\"\"\"", 
      "", 
      "import numpy as np", 
      "import matplotlib.pyplot as plt", 
      "import codecs", 
      "", 
      "def load(fich):", 
      "    \"lit un fichier csv\"", 
      "    data = []", 
      "    meta = {}", 
      "    xydata = False", 
      "    for lin in codecs.open(fich, \"rb\", \"latin_1\"):", 
      "        lin = lin.replace(',','.').strip()", 
      "        linspl = lin.split(';')", 
      "        if linspl == ['']:       # marque la fin des donn\u00e9es", 
      "            xydata = False", 
      "            ", 
      "        if xydata:               # on est dans les donn\u00e9es", 
      "            flin = [ float(i) for i in linspl]", 
      "            data.append(flin)", 
      "", 
      "        elif len(linspl) >1 :                   # ou pas   un champs a recuperer", 
      "            meta[linspl[0]] = \";\".join(linspl[1:])", 
      "", 
      "        if linspl == [\"XYDATA\"]:   # marque le d\u00e9but des donn\u00e9es", 
      "            xydata = True", 
      "    return np.array(data), meta", 
      "", 
      "def decoupe(d):", 
      "    \"extrait les colonnes de donn\u00e9es\"", 
      "    ldo = d[:,0]", 
      "    cd = d[:,1]", 
      "    volt = d[:,2]", 
      "    absorb = d[:,3]", 
      "    return (ldo, cd, volt, absorb)", 
      "    ", 
      "def plotabs(fich, tampon=None, lincor=False):", 
      "    \"dessine l'absorbance dans un fichier, supprime une composante lin\u00e9aire\"", 
      "    d,meta = load(fich)", 
      "    (ldo, cd, volt, absorb) = decoupe(d)", 
      "    if tampon:", 
      "        dtamp,metatamp = load(tampon)", 
      "        (a, b ,c , absorb_tamp) = decoupe(dtamp)", 
      "        absorb = absorb-absorb_tamp", 
      "        rem = \" - corrected\"", 
      "    else:", 
      "        rem = \"\"", 
      "    if lincor:      # on corrige une composante lin\u00e9aire, \u00e9valu\u00e9e sur les premiers points", 
      "        zone = int(0.1*len(ldo))", 
      "        fit = np.polyfit(ldo[0:zone], absorb[0:zone], 1)", 
      "        absorb = absorb-np.polyval(fit, ldo)", 
      "    print meta['Comment']", 
      "    plt.plot(ldo, absorb, label=fich+rem)", 
      "    plt.legend()", 
      "    plt.title(fich)"
     ], 
     "language": "python", 
     "outputs": [], 
     "prompt_number": 11
    }, 
    {
     "cell_type": "code", 
     "collapsed": false, 
     "input": [
      "#tampon abs en fonction de la temperature", 
      "plotabs(\"PNA_120920_ThermCool-1-200nm-Cell 1.csv\")", 
      "plotabs(\"PNA_120920_ThermCool-1-207nm-Cell 1.csv\")", 
      "plotabs(\"PNA_120920_ThermCool-1-215nm-Cell 1.csv\")", 
      "plotabs(\"PNA_120920_ThermCool-1-250nm-Cell 1.csv\")"
     ], 
     "language": "python", 
     "outputs": [
      {
       "output_type": "stream", 
       "stream": "stdout", 
       "text": [
        "C1: buffer; C2: D2-T; C3: T; C4: D1; C5: D2; C6: tern", 
        "C1: buffer; C2: D2-T; C3: T; C4: D1; C5: D2; C6: tern"
       ]
      }, 
      {
       "output_type": "stream", 
       "stream": "stdout", 
       "text": [
        "", 
        "C1: buffer; C2: D2-T; C3: T; C4: D1; C5: D2; C6: tern", 
        "C1: buffer; C2: D2-T; C3: T; C4: D1; C5: D2; C6: tern"
       ]
      }
     ], 
     "prompt_number": 14
    }, 
    {
     "cell_type": "code", 
     "collapsed": false, 
     "input": [
      "#D2T abs en fonction de la temperature", 
      "plotabs(\"PNA_120920_ThermCool-1-200nm-Cell 2.csv\")", 
      "plotabs(\"PNA_120920_ThermCool-1-207nm-Cell 2.csv\")", 
      "plotabs(\"PNA_120920_ThermCool-1-215nm-Cell 2.csv\")", 
      "plotabs(\"PNA_120920_ThermCool-1-250nm-Cell 2.csv\")"
     ], 
     "language": "python", 
     "outputs": [
      {
       "output_type": "stream", 
       "stream": "stdout", 
       "text": [
        "C1: buffer; C2: D2-T; C3: T; C4: D1; C5: D2; C6: tern", 
        "C1: buffer; C2: D2-T; C3: T; C4: D1; C5: D2; C6: tern"
       ]
      }, 
      {
       "output_type": "stream", 
       "stream": "stdout", 
       "text": [
        "", 
        "C1: buffer; C2: D2-T; C3: T; C4: D1; C5: D2; C6: tern", 
        "C1: buffer; C2: D2-T; C3: T; C4: D1; C5: D2; C6: tern"
       ]
      }
     ], 
     "prompt_number": 17
    }, 
    {
     "cell_type": "code", 
     "collapsed": false, 
     "input": [
      "#T abs en fonction de la temperature", 
      "plotabs(\"PNA_120920_ThermCool-1-200nm-Cell 3.csv\")", 
      "plotabs(\"PNA_120920_ThermCool-1-207nm-Cell 3.csv\")", 
      "plotabs(\"PNA_120920_ThermCool-1-215nm-Cell 3.csv\")", 
      "plotabs(\"PNA_120920_ThermCool-1-250nm-Cell 3.csv\")"
     ], 
     "language": "python", 
     "outputs": [
      {
       "output_type": "stream", 
       "stream": "stdout", 
       "text": [
        "C1: buffer; C2: D2-T; C3: T; C4: D1; C5: D2; C6: tern", 
        "C1: buffer; C2: D2-T; C3: T; C4: D1; C5: D2; C6: tern"
       ]
      }, 
      {
       "output_type": "stream", 
       "stream": "stdout", 
       "text": [
        "", 
        "C1: buffer; C2: D2-T; C3: T; C4: D1; C5: D2; C6: tern", 
        "C1: buffer; C2: D2-T; C3: T; C4: D1; C5: D2; C6: tern"
       ]
      }
     ], 
     "prompt_number": 9
    }, 
    {
     "cell_type": "code", 
     "collapsed": false, 
     "input": [
      "#D1 abs en fonction de la temperature", 
      "plotabs(\"PNA_120920_ThermCool-1-200nm-Cell 4.csv\")", 
      "plotabs(\"PNA_120920_ThermCool-1-207nm-Cell 4.csv\")", 
      "plotabs(\"PNA_120920_ThermCool-1-215nm-Cell 4.csv\")", 
      "plotabs(\"PNA_120920_ThermCool-1-250nm-Cell 4.csv\")"
     ], 
     "language": "python", 
     "outputs": [
      {
       "output_type": "stream", 
       "stream": "stdout", 
       "text": [
        "C1: buffer; C2: D2-T; C3: T; C4: D1; C5: D2; C6: tern", 
        "C1: buffer; C2: D2-T; C3: T; C4: D1; C5: D2; C6: tern"
       ]
      }, 
      {
       "output_type": "stream", 
       "stream": "stdout", 
       "text": [
        "", 
        "C1: buffer; C2: D2-T; C3: T; C4: D1; C5: D2; C6: tern", 
        "C1: buffer; C2: D2-T; C3: T; C4: D1; C5: D2; C6: tern"
       ]
      }
     ], 
     "prompt_number": 20
    }, 
    {
     "cell_type": "code", 
     "collapsed": false, 
     "input": [
      "#D2 abs en fonction de la temperature", 
      "plotabs(\"PNA_120920_ThermCool-1-200nm-Cell 5.csv\")", 
      "plotabs(\"PNA_120920_ThermCool-1-207nm-Cell 5.csv\")", 
      "plotabs(\"PNA_120920_ThermCool-1-215nm-Cell 5.csv\")", 
      "plotabs(\"PNA_120920_ThermCool-1-250nm-Cell 5.csv\")"
     ], 
     "language": "python", 
     "outputs": [
      {
       "output_type": "stream", 
       "stream": "stdout", 
       "text": [
        "C1: buffer; C2: D2-T; C3: T; C4: D1; C5: D2; C6: tern", 
        "C1: buffer; C2: D2-T; C3: T; C4: D1; C5: D2; C6: tern"
       ]
      }, 
      {
       "output_type": "stream", 
       "stream": "stdout", 
       "text": [
        "", 
        "C1: buffer; C2: D2-T; C3: T; C4: D1; C5: D2; C6: tern", 
        "C1: buffer; C2: D2-T; C3: T; C4: D1; C5: D2; C6: tern"
       ]
      }
     ], 
     "prompt_number": 23
    }, 
    {
     "cell_type": "code", 
     "collapsed": false, 
     "input": [
      "figure()"
     ], 
     "language": "python", 
     "outputs": [
      {
       "output_type": "pyout", 
       "prompt_number": 24, 
       "text": [
        "<matplotlib.figure.Figure at 0x1951c2b0>"
       ]
      }
     ], 
     "prompt_number": 24
    }, 
    {
     "cell_type": "code", 
     "collapsed": false, 
     "input": [
      "#tern abs en fonction de la temperature", 
      "plotabs(\"PNA_120920_ThermCool-1-200nm-Cell 6.csv\")", 
      "plotabs(\"PNA_120920_ThermCool-1-207nm-Cell 6.csv\")", 
      "plotabs(\"PNA_120920_ThermCool-1-215nm-Cell 6.csv\")", 
      "plotabs(\"PNA_120920_ThermCool-1-250nm-Cell 6.csv\")"
     ], 
     "language": "python", 
     "outputs": [
      {
       "ename": "NameError", 
       "evalue": "name 'plotabs' is not defined", 
       "output_type": "pyerr", 
       "traceback": [
        "\u001b[0;31m---------------------------------------------------------------------------\u001b[0m\n\u001b[0;31mNameError\u001b[0m                                 Traceback (most recent call last)", 
        "\u001b[0;32m/Users/justine/Documents/manips/Dichro_esbs/Abs_Te/ThermalCooling_120920/<ipython-input-1-0e6c1d626997>\u001b[0m in \u001b[0;36m<module>\u001b[0;34m()\u001b[0m\n\u001b[1;32m      1\u001b[0m \u001b[0;31m#tern abs en fonction de la temperature\u001b[0m\n\u001b[0;34m\u001b[0m\u001b[0m\n\u001b[0;32m----> 2\u001b[0;31m \u001b[0mplotabs\u001b[0m\u001b[0;34m(\u001b[0m\u001b[0;34m\"PNA_120920_ThermCool-1-200nm-Cell 6.csv\"\u001b[0m\u001b[0;34m)\u001b[0m\u001b[0;34m\u001b[0m\u001b[0m\n\u001b[0m\u001b[1;32m      3\u001b[0m \u001b[0mplotabs\u001b[0m\u001b[0;34m(\u001b[0m\u001b[0;34m\"PNA_120920_ThermCool-1-207nm-Cell 6.csv\"\u001b[0m\u001b[0;34m)\u001b[0m\u001b[0;34m\u001b[0m\u001b[0m\n\u001b[1;32m      4\u001b[0m \u001b[0mplotabs\u001b[0m\u001b[0;34m(\u001b[0m\u001b[0;34m\"PNA_120920_ThermCool-1-215nm-Cell 6.csv\"\u001b[0m\u001b[0;34m)\u001b[0m\u001b[0;34m\u001b[0m\u001b[0m\n\u001b[1;32m      5\u001b[0m \u001b[0mplotabs\u001b[0m\u001b[0;34m(\u001b[0m\u001b[0;34m\"PNA_120920_ThermCool-1-250nm-Cell 6.csv\"\u001b[0m\u001b[0;34m)\u001b[0m\u001b[0;34m\u001b[0m\u001b[0m\n", 
        "\u001b[0;31mNameError\u001b[0m: name 'plotabs' is not defined"
       ]
      }
     ], 
     "prompt_number": 1
    }, 
    {
     "cell_type": "code", 
     "collapsed": false, 
     "input": [
      "#tampon, D2T, T, D1, D2, tern abs en fonction de la temperature", 
      "plotabs(\"PNA_120920_ThermCool-1-207nm-Cell 1.csv\")", 
      "plotabs(\"PNA_120920_ThermCool-1-207nm-Cell 2.csv\")", 
      "plotabs(\"PNA_120920_ThermCool-1-207nm-Cell 3.csv\")", 
      "plotabs(\"PNA_120920_ThermCool-1-207nm-Cell 4.csv\")", 
      "plotabs(\"PNA_120920_ThermCool-1-207nm-Cell 5.csv\")", 
      "plotabs(\"PNA_120920_ThermCool-1-207nm-Cell 6.csv\")"
     ], 
     "language": "python", 
     "outputs": [
      {
       "output_type": "stream", 
       "stream": "stdout", 
       "text": [
        "C1: buffer; C2: D2-T; C3: T; C4: D1; C5: D2; C6: tern", 
        "C1: buffer; C2: D2-T; C3: T; C4: D1; C5: D2; C6: tern"
       ]
      }, 
      {
       "output_type": "stream", 
       "stream": "stdout", 
       "text": [
        "", 
        "C1: buffer; C2: D2-T; C3: T; C4: D1; C5: D2; C6: tern"
       ]
      }, 
      {
       "output_type": "stream", 
       "stream": "stdout", 
       "text": [
        "", 
        "C1: buffer; C2: D2-T; C3: T; C4: D1; C5: D2; C6: tern", 
        "C1: buffer; C2: D2-T; C3: T; C4: D1; C5: D2; C6: tern", 
        "C1: buffer; C2: D2-T; C3: T; C4: D1; C5: D2; C6: tern"
       ]
      }, 
      {
       "output_type": "stream", 
       "stream": "stdout", 
       "text": []
      }
     ], 
     "prompt_number": 9
    }, 
    {
     "cell_type": "code", 
     "collapsed": false, 
     "input": [
      "#tampon, D2T, T, D1, D2, tern abs en fonction de la temperature, corrected", 
      "plotabs(\"PNA_120920_ThermCool-1-207nm-Cell 1.csv\",\"PNA_120920_ThermCool-1-207nm-Cell 1.csv\")", 
      "plotabs(\"PNA_120920_ThermCool-1-207nm-Cell 2.csv\",\"PNA_120920_ThermCool-1-207nm-Cell 1.csv\")", 
      "plotabs(\"PNA_120920_ThermCool-1-207nm-Cell 3.csv\",\"PNA_120920_ThermCool-1-207nm-Cell 1.csv\")", 
      "plotabs(\"PNA_120920_ThermCool-1-207nm-Cell 4.csv\",\"PNA_120920_ThermCool-1-207nm-Cell 1.csv\")", 
      "plotabs(\"PNA_120920_ThermCool-1-207nm-Cell 5.csv\",\"PNA_120920_ThermCool-1-207nm-Cell 1.csv\")", 
      "plotabs(\"PNA_120920_ThermCool-1-207nm-Cell 6.csv\",\"PNA_120920_ThermCool-1-207nm-Cell 1.csv\")"
     ], 
     "language": "python", 
     "outputs": [
      {
       "output_type": "stream", 
       "stream": "stdout", 
       "text": [
        "C1: buffer; C2: D2-T; C3: T; C4: D1; C5: D2; C6: tern", 
        "C1: buffer; C2: D2-T; C3: T; C4: D1; C5: D2; C6: tern"
       ]
      }, 
      {
       "output_type": "stream", 
       "stream": "stdout", 
       "text": [
        "", 
        "C1: buffer; C2: D2-T; C3: T; C4: D1; C5: D2; C6: tern", 
        "C1: buffer; C2: D2-T; C3: T; C4: D1; C5: D2; C6: tern"
       ]
      }, 
      {
       "output_type": "stream", 
       "stream": "stdout", 
       "text": [
        "", 
        "C1: buffer; C2: D2-T; C3: T; C4: D1; C5: D2; C6: tern", 
        "C1: buffer; C2: D2-T; C3: T; C4: D1; C5: D2; C6: tern"
       ]
      }
     ], 
     "prompt_number": 22
    }, 
    {
     "cell_type": "code", 
     "collapsed": false, 
     "input": [
      "#D2T, T, tern abs en fonction de la temperature, corrected", 
      "#plotabs(\"PNA_120920_ThermCool-1-207nm-Cell 2.csv\",\"PNA_120920_ThermCool-1-207nm-Cell 1.csv\")", 
      "plotabs(\"PNA_120920_ThermCool-1-207nm-Cell 3.csv\",\"PNA_120920_ThermCool-1-207nm-Cell 1.csv\")", 
      "#plotabs(\"PNA_120920_ThermCool-1-207nm-Cell 6.csv\",\"PNA_120920_ThermCool-1-207nm-Cell 1.csv\")"
     ], 
     "language": "python", 
     "outputs": [
      {
       "output_type": "stream", 
       "stream": "stdout", 
       "text": [
        "C1: buffer; C2: D2-T; C3: T; C4: D1; C5: D2; C6: tern"
       ]
      }
     ], 
     "prompt_number": 25
    }, 
    {
     "cell_type": "code", 
     "collapsed": false, 
     "input": [
      "#D2T, T, tern abs en fonction de la temperature, corrected", 
      "plotabs(\"PNA_120920_ThermCool-1-215nm-Cell 2.csv\",\"PNA_120920_ThermCool-1-215nm-Cell 1.csv\")", 
      "plotabs(\"PNA_120920_ThermCool-1-215nm-Cell 3.csv\",\"PNA_120920_ThermCool-1-215nm-Cell 1.csv\")", 
      "plotabs(\"PNA_120920_ThermCool-1-215nm-Cell 6.csv\",\"PNA_120920_ThermCool-1-215nm-Cell 1.csv\")"
     ], 
     "language": "python", 
     "outputs": [
      {
       "output_type": "stream", 
       "stream": "stdout", 
       "text": [
        "C1: buffer; C2: D2-T; C3: T; C4: D1; C5: D2; C6: tern", 
        "C1: buffer; C2: D2-T; C3: T; C4: D1; C5: D2; C6: tern"
       ]
      }, 
      {
       "output_type": "stream", 
       "stream": "stdout", 
       "text": [
        "", 
        "C1: buffer; C2: D2-T; C3: T; C4: D1; C5: D2; C6: tern"
       ]
      }
     ], 
     "prompt_number": 24
    }, 
    {
     "cell_type": "code", 
     "collapsed": false, 
     "input": [
      "#D2T, T, tern abs en fonction de la temperature, corrected", 
      "plotabs(\"PNA_120920_ThermCool-1-207nm-Cell 2.csv\",\"PNA_120920_ThermCool-1-207nm-Cell 1.csv\")", 
      "plotabs(\"PNA_120920_ThermCool-1-207nm-Cell 3.csv\",\"PNA_120920_ThermCool-1-207nm-Cell 1.csv\")", 
      "plotabs(\"PNA_120920_ThermCool-1-207nm-Cell 6.csv\",\"PNA_120920_ThermCool-1-207nm-Cell 1.csv\")", 
      "#D2T, T, tern abs en fonction de la temperature, corrected", 
      "plotabs(\"PNA_120920_ThermCool-1-215nm-Cell 2.csv\",\"PNA_120920_ThermCool-1-215nm-Cell 1.csv\")", 
      "plotabs(\"PNA_120920_ThermCool-1-215nm-Cell 3.csv\",\"PNA_120920_ThermCool-1-215nm-Cell 1.csv\")", 
      "plotabs(\"PNA_120920_ThermCool-1-215nm-Cell 6.csv\",\"PNA_120920_ThermCool-1-215nm-Cell 1.csv\")"
     ], 
     "language": "python", 
     "outputs": [
      {
       "output_type": "stream", 
       "stream": "stdout", 
       "text": [
        "C1: buffer; C2: D2-T; C3: T; C4: D1; C5: D2; C6: tern"
       ]
      }
     ], 
     "prompt_number": 14
    }, 
    {
     "cell_type": "code", 
     "collapsed": false, 
     "input": [
      "#D2T, T, tern abs en fonction de la temperature, corrected", 
      "plotabs(\"PNA_120920_ThermCool-1-200nm-Cell 2.csv\",\"PNA_120920_ThermCool-1-200nm-Cell 1.csv\")", 
      "plotabs(\"PNA_120920_ThermCool-1-200nm-Cell 3.csv\",\"PNA_120920_ThermCool-1-200nm-Cell 1.csv\")", 
      "plotabs(\"PNA_120920_ThermCool-1-200nm-Cell 6.csv\",\"PNA_120920_ThermCool-1-200nm-Cell 1.csv\")", 
      "#D2T, T, tern abs en fonction de la temperature, corrected", 
      "plotabs(\"PNA_120920_ThermCool-1-250nm-Cell 2.csv\",\"PNA_120920_ThermCool-1-250nm-Cell 1.csv\")", 
      "plotabs(\"PNA_120920_ThermCool-1-250nm-Cell 3.csv\",\"PNA_120920_ThermCool-1-250nm-Cell 1.csv\")", 
      "plotabs(\"PNA_120920_ThermCool-1-250nm-Cell 6.csv\",\"PNA_120920_ThermCool-1-250nm-Cell 1.csv\")"
     ], 
     "language": "python", 
     "outputs": [
      {
       "output_type": "stream", 
       "stream": "stdout", 
       "text": [
        "C1: buffer; C2: D2-T; C3: T; C4: D1; C5: D2; C6: tern", 
        "C1: buffer; C2: D2-T; C3: T; C4: D1; C5: D2; C6: tern"
       ]
      }, 
      {
       "output_type": "stream", 
       "stream": "stdout", 
       "text": [
        "", 
        "C1: buffer; C2: D2-T; C3: T; C4: D1; C5: D2; C6: tern", 
        "C1: buffer; C2: D2-T; C3: T; C4: D1; C5: D2; C6: tern", 
        "C1: buffer; C2: D2-T; C3: T; C4: D1; C5: D2; C6: tern"
       ]
      }, 
      {
       "output_type": "stream", 
       "stream": "stdout", 
       "text": [
        "", 
        "C1: buffer; C2: D2-T; C3: T; C4: D1; C5: D2; C6: tern"
       ]
      }
     ], 
     "prompt_number": 11
    }, 
    {
     "cell_type": "code", 
     "collapsed": false, 
     "input": [
      "figure()"
     ], 
     "language": "python", 
     "outputs": [
      {
       "output_type": "pyout", 
       "prompt_number": 3, 
       "text": [
        "<matplotlib.figure.Figure at 0x37d7190>"
       ]
      }
     ], 
     "prompt_number": 3
    }, 
    {
     "cell_type": "code", 
     "collapsed": true, 
     "input": [], 
     "language": "python", 
     "outputs": []
    }
   ]
  }
 ]
}